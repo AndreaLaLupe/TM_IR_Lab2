{
 "cells": [
  {
   "cell_type": "markdown",
   "metadata": {},
   "source": [
    "<a id=\"repository\"></a>\n",
    "## 1.📔Github Repositorio"
   ]
  },
  {
   "cell_type": "code",
   "execution_count": 1,
   "metadata": {},
   "outputs": [
    {
     "name": "stdout",
     "output_type": "stream",
     "text": [
      "Initialized empty Git repository in C:/Users/aalva/OneDrive - Universidad Rafael Landivar/Universidad/Galileo/2024/Tercer Trimestre/Text Mining and Image Recognition/Laboratorios/Lab1/Lab1/.git/\n"
     ]
    }
   ],
   "source": [
    "# Inicia el repositorio\n",
    "!git init"
   ]
  },
  {
   "cell_type": "code",
   "execution_count": 2,
   "metadata": {},
   "outputs": [],
   "source": [
    "# Configurar el nombre de usuario y el correo electrónico\n",
    "!git config --global user.name \"AndreaLaLupe\"\n",
    "!git config --global user.email \"aalvarez2014ig@gmail.com\""
   ]
  },
  {
   "cell_type": "code",
   "execution_count": 3,
   "metadata": {},
   "outputs": [
    {
     "name": "stderr",
     "output_type": "stream",
     "text": [
      "warning: in the working copy of 'github_notebook.ipynb', LF will be replaced by CRLF the next time Git touches it\n",
      "warning: in the working copy of 'lab_1.ipynb', LF will be replaced by CRLF the next time Git touches it\n"
     ]
    }
   ],
   "source": [
    "# Agregar todos los archivos al área de preparación\n",
    "!git add ."
   ]
  },
  {
   "cell_type": "code",
   "execution_count": 4,
   "metadata": {},
   "outputs": [
    {
     "name": "stdout",
     "output_type": "stream",
     "text": [
      "[master (root-commit) 73cf4f0] Primer Commit\n",
      " 18 files changed, 1343 insertions(+)\n",
      " create mode 100644 .DS_Store\n",
      " create mode 100644 Laboratorio_1.pdf\n",
      " create mode 100644 Problema_3/imagen_azul.jpg\n",
      " create mode 100644 Problema_3/imagen_rojo.jpg\n",
      " create mode 100644 Problema_3/imagen_verde.jpg\n",
      " create mode 100644 cono.png\n",
      " create mode 100644 github_notebook.ipynb\n",
      " create mode 100644 imagen1/imagen1_salida_gray_azul.jpg\n",
      " create mode 100644 imagen1/imagen1_salida_gray_rojo.jpg\n",
      " create mode 100644 imagen1/imagen1_salida_gray_verde.jpg\n",
      " create mode 100644 imagen2/imagen2_salida_gray_azul.jpg\n",
      " create mode 100644 imagen2/imagen2_salida_gray_rojo.jpg\n",
      " create mode 100644 imagen2/imagen2_salida_gray_verde.jpg\n",
      " create mode 100644 lab_1.ipynb\n",
      " create mode 100644 paris.jpg\n",
      " create mode 100644 perro/perro_salida_gray_azul.jpg\n",
      " create mode 100644 perro/perro_salida_gray_rojo.jpg\n",
      " create mode 100644 perro/perro_salida_gray_verde.jpg\n"
     ]
    }
   ],
   "source": [
    "# Hacer el primer commit\n",
    "!git commit -m \"Primer Commit\""
   ]
  },
  {
   "cell_type": "code",
   "execution_count": 5,
   "metadata": {},
   "outputs": [],
   "source": [
    "# Agregar el repositorio remoto\n",
    "!git remote add origin https://github.com/AndreaLaLupe/TM_-_IR-Lab1-.git"
   ]
  },
  {
   "cell_type": "code",
   "execution_count": 10,
   "metadata": {},
   "outputs": [
    {
     "name": "stderr",
     "output_type": "stream",
     "text": [
      "Switched to a new branch 'main'\n"
     ]
    }
   ],
   "source": [
    "!git checkout -b main"
   ]
  },
  {
   "cell_type": "code",
   "execution_count": 12,
   "metadata": {},
   "outputs": [
    {
     "name": "stdout",
     "output_type": "stream",
     "text": [
      "branch 'main' set up to track 'origin/main'.\n"
     ]
    },
    {
     "name": "stderr",
     "output_type": "stream",
     "text": [
      "To https://github.com/AndreaLaLupe/TM_-_IR-Lab1-.git\n",
      " * [new branch]      main -> main\n"
     ]
    }
   ],
   "source": [
    "# Empujar los cambios al repositorio remoto\n",
    "!git push -u origin main"
   ]
  }
 ],
 "metadata": {
  "kernelspec": {
   "display_name": "base",
   "language": "python",
   "name": "python3"
  },
  "language_info": {
   "codemirror_mode": {
    "name": "ipython",
    "version": 3
   },
   "file_extension": ".py",
   "mimetype": "text/x-python",
   "name": "python",
   "nbconvert_exporter": "python",
   "pygments_lexer": "ipython3",
   "version": "3.11.7"
  }
 },
 "nbformat": 4,
 "nbformat_minor": 2
}
